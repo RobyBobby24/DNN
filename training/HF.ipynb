{
 "cells": [
  {
   "cell_type": "code",
   "execution_count": 1,
   "id": "initial_id",
   "metadata": {
    "collapsed": true,
    "ExecuteTime": {
     "end_time": "2024-06-05T07:50:01.118856Z",
     "start_time": "2024-06-05T07:49:53.291787Z"
    }
   },
   "outputs": [],
   "source": [
    "import torch\n",
    "from torchvision import datasets\n",
    "from torchvision.transforms import ToTensor\n",
    "from torch import nn\n",
    "from torch.utils.data import DataLoader\n",
    "from networks import A1"
   ]
  },
  {
   "cell_type": "code",
   "outputs": [],
   "source": [
    "device = torch.device(\"cuda\" if torch.cuda.is_available() else \"cpu\")"
   ],
   "metadata": {
    "collapsed": false,
    "ExecuteTime": {
     "end_time": "2024-06-05T07:50:01.128509Z",
     "start_time": "2024-06-05T07:50:01.121871Z"
    }
   },
   "id": "52c19af2463dd7e7",
   "execution_count": 2
  },
  {
   "cell_type": "code",
   "outputs": [],
   "source": [
    "train_data= datasets.FashionMNIST(root='data', train=True, download=True, transform=ToTensor(),)\n",
    "\n",
    "test_data = datasets.FashionMNIST(root='data', train=False, download=True, transform=ToTensor(),)"
   ],
   "metadata": {
    "collapsed": false,
    "ExecuteTime": {
     "end_time": "2024-06-05T07:50:01.293404Z",
     "start_time": "2024-06-05T07:50:01.131518Z"
    }
   },
   "id": "56199095f9da11a9",
   "execution_count": 3
  },
  {
   "cell_type": "code",
   "outputs": [],
   "source": [
    "labels_map={\n",
    "    0: 'T-shirt',\n",
    "    1: 'Trouser',\n",
    "    2: 'Pullover',\n",
    "    3: 'Dress',\n",
    "    4: 'Coat',\n",
    "    5: 'Sandal',\n",
    "    6: 'Shirt',\n",
    "    7: 'Sneaker',\n",
    "    8: 'Bag',\n",
    "    9: 'Ankle Boot',\n",
    "}"
   ],
   "metadata": {
    "collapsed": false,
    "ExecuteTime": {
     "end_time": "2024-06-05T07:50:01.299289Z",
     "start_time": "2024-06-05T07:50:01.295413Z"
    }
   },
   "id": "c94eec854e27a11f",
   "execution_count": 4
  },
  {
   "cell_type": "code",
   "outputs": [
    {
     "data": {
      "text/plain": "torch.Size([1, 28, 28])"
     },
     "execution_count": 5,
     "metadata": {},
     "output_type": "execute_result"
    }
   ],
   "source": [
    "sample_idx = torch.randint(len(train_data), size = (1,)).item()\n",
    "image, label = train_data[sample_idx]\n",
    "image.shape"
   ],
   "metadata": {
    "collapsed": false,
    "ExecuteTime": {
     "end_time": "2024-06-05T07:50:01.346860Z",
     "start_time": "2024-06-05T07:50:01.302300Z"
    }
   },
   "id": "86feaeb9f75aef97",
   "execution_count": 5
  },
  {
   "cell_type": "markdown",
   "source": [
    "### La cella sotto va eliminata !!!!!!!!!!!!!!!!!!!!"
   ],
   "metadata": {
    "collapsed": false
   },
   "id": "b312d88725e5c01"
  },
  {
   "cell_type": "code",
   "outputs": [
    {
     "name": "stdout",
     "output_type": "stream",
     "text": [
      "Shape of x: torch.Size([1, 28, 28])\n",
      "Shape of x2: torch.Size([4, 24, 24])\n",
      "Shape of x3: torch.Size([2304])\n",
      "Shape of x4: torch.Size([10])\n",
      "Shape of x5: torch.Size([10])\n"
     ]
    },
    {
     "data": {
      "text/plain": "tensor([0.0947, 0.1072, 0.0737, 0.1133, 0.0716, 0.0982, 0.1236, 0.0980, 0.1102,\n        0.1094], grad_fn=<SoftmaxBackward0>)"
     },
     "execution_count": 7,
     "metadata": {},
     "output_type": "execute_result"
    }
   ],
   "source": [
    "test_convolutional_layer = nn.Conv2d(in_channels=1, out_channels=4, kernel_size=5) # kernel size 4 = (4,4) = 4 x 4\n",
    "flatten = nn.Flatten(start_dim=-3)\n",
    "linear1 = nn.Linear(2304, 10)\n",
    "softmax = nn.Softmax(dim=0)\n",
    "seq = nn.Sequential()\n",
    "# se aggiungessi il parametro padding=\"same\" otterrei l'output della stessa dimensione dell'input\n",
    "\n",
    "\n",
    "x = train_data[0][0]\n",
    "print('Shape of x:', x.shape)\n",
    "## The shape will be 128, 1, 28, 28 because we have 128 images in a batch, 1 channel, and 28x28 pixels\n",
    "\n",
    "x2 = test_convolutional_layer(x)\n",
    "print('Shape of x2:', x2.shape)\n",
    "x3 = flatten(x2)\n",
    "print('Shape of x3:', x3.shape)\n",
    "x4 = linear1(x3)\n",
    "print('Shape of x4:', x4.shape)\n",
    "x5 = softmax(x4)\n",
    "\n",
    "\n",
    "\n",
    "print('Shape of x5:', x5.shape)\n",
    "x5"
   ],
   "metadata": {
    "collapsed": false,
    "ExecuteTime": {
     "end_time": "2024-06-05T07:57:44.329921Z",
     "start_time": "2024-06-05T07:57:44.300667Z"
    }
   },
   "id": "11f4611fbb73ae",
   "execution_count": 7
  },
  {
   "cell_type": "code",
   "outputs": [],
   "source": [
    "batch_size = 128\n",
    "\n",
    "train_dataloader= DataLoader(train_data, batch_size = batch_size)\n",
    "test_dataloader = DataLoader(test_data, batch_size=batch_size)"
   ],
   "metadata": {
    "collapsed": false,
    "ExecuteTime": {
     "end_time": "2024-06-05T07:50:02.338180Z",
     "start_time": "2024-06-05T07:50:02.335181Z"
    }
   },
   "id": "2a121d0431f1878f"
  },
  {
   "cell_type": "code",
   "outputs": [],
   "source": [
    "def HF_train_loop(dataloader, model, loss_fn, optimizer):\n",
    "    model.freeze_conv_param()\n",
    "    size = len(dataloader.dataset)\n",
    "    for batch, (X, y) in enumerate(dataloader):\n",
    "        X, y = X.to(device), y.to(device)\n",
    "    \n",
    "        # Compute prediction and loss\n",
    "        pred = model(X)\n",
    "        loss = loss_fn(pred, y)\n",
    "        \n",
    "        # Backpropagation\n",
    "        optimizer.zero_grad()\n",
    "        loss.backward()\n",
    "        optimizer.step()\n",
    "        \n",
    "        if batch % 1000 == 0:\n",
    "          loss, current = loss.item(), (batch + 1) * len(X)\n",
    "          print(f\"loss: {loss:>7f}  [{current:>5d}/{size:>5d}]\")\n",
    "    \n",
    "    # torch save model with torch.save()\n",
    "    torch.save({'model_weights': model.state_dict()}, 'model.pt')"
   ],
   "metadata": {
    "collapsed": false
   },
   "id": "5303970efdf6c7c6"
  },
  {
   "cell_type": "code",
   "outputs": [],
   "source": [
    "def test_loop(dataloader, model, loss_fn):\n",
    "  size = len(dataloader.dataset)\n",
    "  num_batches = len(dataloader)\n",
    "  test_loss, correct = 0, 0\n",
    "\n",
    "  with torch.no_grad():\n",
    "    for X, y in dataloader:\n",
    "      X, y = X.to(device), y.to(device)\n",
    "      pred = model(X)\n",
    "      test_loss += loss_fn(pred, y).item()\n",
    "      correct += (pred.argmax(1) == y).type(torch.float).sum().item()\n",
    "\n",
    "  test_loss /= num_batches\n",
    "  correct /= size\n",
    "  print(f\"Test Error: \\n Accuracy: {(100*correct):>0.1f}%, Avg loss: {test_loss:>8f} \\n\")\n",
    "  return (100*correct)"
   ],
   "metadata": {
    "collapsed": false
   },
   "id": "dda50b66714c38f9"
  }
 ],
 "metadata": {
  "kernelspec": {
   "display_name": "Python 3",
   "language": "python",
   "name": "python3"
  },
  "language_info": {
   "codemirror_mode": {
    "name": "ipython",
    "version": 2
   },
   "file_extension": ".py",
   "mimetype": "text/x-python",
   "name": "python",
   "nbconvert_exporter": "python",
   "pygments_lexer": "ipython2",
   "version": "2.7.6"
  }
 },
 "nbformat": 4,
 "nbformat_minor": 5
}
